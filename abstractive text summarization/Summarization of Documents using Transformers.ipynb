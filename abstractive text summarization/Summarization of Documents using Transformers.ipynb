{
 "cells": [
  {
   "cell_type": "code",
   "execution_count": 1,
   "id": "153af4c6",
   "metadata": {},
   "outputs": [
    {
     "name": "stdout",
     "output_type": "stream",
     "text": [
      "Requirement already satisfied: transformers[sentencepiece] in c:\\users\\roopal\\anaconda3\\lib\\site-packages (4.30.2)\n",
      "Requirement already satisfied: requests in c:\\users\\roopal\\anaconda3\\lib\\site-packages (from transformers[sentencepiece]) (2.28.1)\n",
      "Requirement already satisfied: tokenizers!=0.11.3,<0.14,>=0.11.1 in c:\\users\\roopal\\anaconda3\\lib\\site-packages (from transformers[sentencepiece]) (0.13.3)\n",
      "Requirement already satisfied: tqdm>=4.27 in c:\\users\\roopal\\anaconda3\\lib\\site-packages (from transformers[sentencepiece]) (4.64.1)\n",
      "Requirement already satisfied: packaging>=20.0 in c:\\users\\roopal\\anaconda3\\lib\\site-packages (from transformers[sentencepiece]) (21.3)\n",
      "Requirement already satisfied: huggingface-hub<1.0,>=0.14.1 in c:\\users\\roopal\\anaconda3\\lib\\site-packages (from transformers[sentencepiece]) (0.16.4)\n",
      "Requirement already satisfied: filelock in c:\\users\\roopal\\anaconda3\\lib\\site-packages (from transformers[sentencepiece]) (3.6.0)\n",
      "Requirement already satisfied: numpy>=1.17 in c:\\users\\roopal\\anaconda3\\lib\\site-packages (from transformers[sentencepiece]) (1.21.5)\n",
      "Requirement already satisfied: safetensors>=0.3.1 in c:\\users\\roopal\\anaconda3\\lib\\site-packages (from transformers[sentencepiece]) (0.3.1)\n",
      "Requirement already satisfied: regex!=2019.12.17 in c:\\users\\roopal\\anaconda3\\lib\\site-packages (from transformers[sentencepiece]) (2022.7.9)\n",
      "Requirement already satisfied: pyyaml>=5.1 in c:\\users\\roopal\\anaconda3\\lib\\site-packages (from transformers[sentencepiece]) (6.0)\n",
      "Requirement already satisfied: protobuf<=3.20.3 in c:\\users\\roopal\\anaconda3\\lib\\site-packages (from transformers[sentencepiece]) (3.19.6)\n",
      "Requirement already satisfied: sentencepiece!=0.1.92,>=0.1.91 in c:\\users\\roopal\\anaconda3\\lib\\site-packages (from transformers[sentencepiece]) (0.1.99)\n",
      "Requirement already satisfied: fsspec in c:\\users\\roopal\\anaconda3\\lib\\site-packages (from huggingface-hub<1.0,>=0.14.1->transformers[sentencepiece]) (2022.10.0)\n",
      "Requirement already satisfied: typing-extensions>=3.7.4.3 in c:\\users\\roopal\\anaconda3\\lib\\site-packages (from huggingface-hub<1.0,>=0.14.1->transformers[sentencepiece]) (4.3.0)\n",
      "Requirement already satisfied: pyparsing!=3.0.5,>=2.0.2 in c:\\users\\roopal\\anaconda3\\lib\\site-packages (from packaging>=20.0->transformers[sentencepiece]) (3.0.9)\n",
      "Requirement already satisfied: colorama in c:\\users\\roopal\\anaconda3\\lib\\site-packages (from tqdm>=4.27->transformers[sentencepiece]) (0.4.5)\n",
      "Requirement already satisfied: certifi>=2017.4.17 in c:\\users\\roopal\\anaconda3\\lib\\site-packages (from requests->transformers[sentencepiece]) (2022.9.24)\n",
      "Requirement already satisfied: urllib3<1.27,>=1.21.1 in c:\\users\\roopal\\anaconda3\\lib\\site-packages (from requests->transformers[sentencepiece]) (1.26.12)\n",
      "Requirement already satisfied: idna<4,>=2.5 in c:\\users\\roopal\\anaconda3\\lib\\site-packages (from requests->transformers[sentencepiece]) (3.4)\n",
      "Requirement already satisfied: charset-normalizer<3,>=2 in c:\\users\\roopal\\anaconda3\\lib\\site-packages (from requests->transformers[sentencepiece]) (2.0.4)\n"
     ]
    },
    {
     "name": "stderr",
     "output_type": "stream",
     "text": [
      "WARNING: Ignoring invalid distribution -rotobuf (c:\\users\\roopal\\anaconda3\\lib\\site-packages)\n",
      "WARNING: Ignoring invalid distribution -rotobuf (c:\\users\\roopal\\anaconda3\\lib\\site-packages)\n",
      "WARNING: Ignoring invalid distribution -rotobuf (c:\\users\\roopal\\anaconda3\\lib\\site-packages)\n",
      "WARNING: Ignoring invalid distribution -rotobuf (c:\\users\\roopal\\anaconda3\\lib\\site-packages)\n",
      "WARNING: Ignoring invalid distribution -rotobuf (c:\\users\\roopal\\anaconda3\\lib\\site-packages)\n",
      "WARNING: Ignoring invalid distribution -rotobuf (c:\\users\\roopal\\anaconda3\\lib\\site-packages)\n"
     ]
    }
   ],
   "source": [
    "\"\"\"The Transformers library, developed by Hugging Face, \n",
    "is a popular open-source library for natural language processing (NLP) tasks, \n",
    "including pre-training and fine-tuning state-of-the-art NLP models such as BERT, GPT, RoBERTa, etc.\"\"\"\n",
    "\n",
    "\n",
    "!pip install transformers[sentencepiece]"
   ]
  },
  {
   "cell_type": "code",
   "execution_count": 2,
   "id": "294fd023",
   "metadata": {},
   "outputs": [],
   "source": [
    "file = open('file', 'r')\n",
    "content = file.read().strip()"
   ]
  },
  {
   "cell_type": "code",
   "execution_count": 3,
   "id": "93e60214",
   "metadata": {},
   "outputs": [
    {
     "data": {
      "text/plain": [
       "'number of words in The rapid advancement of technology in recent decades has had a profound impact on nearly every aspect of human life. From communication and transportation to healthcare, entertainment, education, and business, the influence of technology is ubiquitous and transformative. This remarkable progress has brought about numerous benefits, but it has also raised concerns and challenges that society must navigate.\\n\\nOne area that has been profoundly influenced by technological advancements is communication. The advent of the internet, social media platforms, and mobile devices has revolutionized the way people connect and interact globally. Communication has become instantaneous, allowing individuals from different corners of the world to connect effortlessly and exchange information in real-time. Social media platforms have enabled people to share their thoughts, opinions, and experiences on a global scale, fostering connections and creating virtual communities. Additionally, messaging apps have made it easier than ever to stay in touch with friends and family, regardless of geographical distance. The power of social media in mobilizing social movements and amplifying voices cannot be overstated. However, this convenience and connectivity come with their own set of challenges. The rise of digital addiction, for instance, has become a concern as people find themselves increasingly reliant on their devices for social validation and constant stimulation. The need for digital detox and mindful technology use has gained prominence as individuals strive for a healthy balance between online and offline life. Privacy concerns have also emerged, as individuals grapple with the extent to which their personal data is being collected and utilized by technology companies. The Cambridge Analytica scandal and other high-profile data breaches have brought data privacy to the forefront of public discourse, highlighting the need for robust regulations and user empowerment. Moreover, the proliferation of misinformation and fake news on social media platforms has raised questions about the impact of technology on the dissemination of accurate and reliable information. The spread of misinformation during crises and elections has underscored the importance of media literacy and critical thinking skills in the digital age.\\n\\nFurthermore, technology has significantly impacted the entertainment industry. Streaming services, such as Netflix and Spotify, have revolutionized how people consume music, movies, and television shows. With just a few clicks, users can access an extensive library of content tailored to their preferences, providing them with unprecedented choice and convenience. This shift has challenged traditional media platforms, such as cable television and physical media sales, forcing them to adapt or face obsolescence. The rise of subscription-based models and the \"cord-cutting\" trend have disrupted the traditional distribution models, giving consumers more control over their entertainment choices. Additionally, the rise of digital platforms has given rise to new opportunities for content creators, enabling them to reach a global audience without the need for traditional gatekeepers. User-generated content, such as vlogs, podcasts, and online tutorials, has gained popularity, offering a more diverse range of voices and perspectives in the media landscape. Crowdfunding platforms like Kickstarter and Patreon have empowered independent artists and creators by providing them with alternative funding models and direct engagement with their audiences. However, the democratization of content creation has also led to concerns about quality control, copyright infringement, and fair compensation for creators. The rise of deepfakes and their potential to manipulate and mislead further underscores the need for ethical guidelines and regulations in the entertainment industry.\\n\\nIn the healthcare sector, technology has brought significant advancements that have improved medical diagnosis, treatment, and patient care. Electronic medical records have replaced cumbersome paper-based systems, streamlining healthcare processes and facilitating the exchange of information between healthcare providers. This digitization of health data has the potential to enhance coordination of care and improve patient outcomes. Telemedicine has emerged as a valuable tool, particularly in remote or underserved areas, by providing access to medical expertise from a distance. Patients can consult with doctors via video calls, receive prescriptions electronically, and even monitor their vital signs remotely using wearable devices. These advancements have not only improved the efficiency and accessibility of healthcare but also enhanced patient experiences and outcomes. Wearable devices, such as fitness trackers and smartwatches, have empowered individuals to monitor their health and well-being in real-time, promoting preventive care and encouraging lifestyle changes. Data collected from these devices can be used to personalize healthcare interventions and enable early detection of health issues. Moreover, artificial intelligence and machine learning algorithms are being employed to analyze medical images, assist in diagnosing diseases, and develop personalized treatment plans. These technologies hold great promise in improving diagnostic accuracy and optimizing treatment strategies. However, the integration of technology in healthcare is not without challenges. Concerns about data security and privacy persist, as the healthcare industry grapples with safeguarding sensitive patient information in an increasingly digital landscape. Striking a balance between data utilization for research and innovation while ensuring patient privacy and consent is an ongoing ethical and regulatory challenge.\\n\\nTransportation is another domain where technology has made remarkable strides. Electric vehicles (EVs) have gained popularity as sustainable alternatives to traditional combustion engine vehicles, reducing carbon emissions and dependence on fossil fuels. The development of efficient battery technologies and the establishment of charging infrastructure have further propelled the adoption of EVs. Governments and policymakers worldwide are implementing initiatives and incentives to accelerate the transition to electric mobility. Autonomous vehicles are also on the horizon, promising enhanced safety, efficiency, and convenience. Self-driving cars have the potential to revolutionize transportation by reducing accidents caused by human error and optimizing traffic flow. Companies like Tesla, Waymo, and Uber are investing heavily in autonomous vehicle technology, conducting extensive research and development to overcome technical and regulatory challenges. Additionally, ride-sharing platforms like Uber and Lyft have disrupted the transportation industry, offering convenient and affordable transportation options to users while challenging the dominance of traditional taxis. These advancements in transportation technology have the potential to reshape cities, reduce congestion, and improve access to mobility options. However, they also raise important questions about liability, regulations, and the impact on employment in the transportation sector. Ensuring the safety and ethical considerations of autonomous vehicles, addressing infrastructure requirements, and managing the potential societal impacts are crucial aspects to consider in the future of transportation.\\n\\nThe field of education has also been greatly impacted by technology. Digital tools and platforms have transformed the way students learn and teachers instruct. Online learning platforms provide access to educational resources and courses from around the world, enabling individuals to acquire knowledge and skills at their own pace and convenience. Massive Open Online Courses (MOOCs) offered by platforms like Coursera and edX have democratized education, making it accessible to a global audience. Virtual classrooms and video conferencing have expanded educational opportunities, allowing students to connect with educators and peers globally. Collaborative online platforms and tools enable students to work together on projects, fostering teamwork and cross-cultural understanding. Furthermore, interactive learning tools, such as educational apps and gamified platforms, have made learning more engaging and personalized. Adaptive learning algorithms can tailor educational content to individual students\\' needs and provide personalized feedback, promoting a deeper understanding of concepts. However, the digital divide remains a significant challenge, as not all students have equal access to technology and reliable internet connections. Ensuring equitable access to technology, bridging the digital divide, and developing digital literacy skills are crucial to harnessing the full potential of educational technology. Moreover, the role of teachers in the digital era is evolving. Teachers now need to navigate the use of technology in the classroom, develop digital pedagogical skills, and provide guidance in an increasingly connected world.\\n\\nIn the realm of business and commerce, technology has revolutionized the way organizations operate and interact with customers. E-commerce has experienced explosive growth, allowing businesses to reach customers worldwide and conduct transactions online. This has led to the rise of online marketplaces, such as Amazon and Alibaba, which have transformed retail and'"
      ]
     },
     "execution_count": 3,
     "metadata": {},
     "output_type": "execute_result"
    }
   ],
   "source": [
    "content"
   ]
  },
  {
   "cell_type": "code",
   "execution_count": 4,
   "id": "d297fc99",
   "metadata": {},
   "outputs": [],
   "source": [
    "\"\"\"We use the Transformers library to load a pre-trained sequence-to-sequence model and its tokenizer. \n",
    "Specifically we use the \"distilbart-cnn-12-6\" model checkpoint.\"\"\"\n",
    "\n",
    "from transformers import AutoTokenizer, AutoModelForSeq2SeqLM\n",
    "\n",
    "checkpoint = \"sshleifer/distilbart-cnn-12-6\"\n",
    "\n",
    "tokenizer = AutoTokenizer.from_pretrained(checkpoint)\n",
    "model = AutoModelForSeq2SeqLM.from_pretrained(checkpoint)"
   ]
  },
  {
   "cell_type": "code",
   "execution_count": 5,
   "id": "dfe485f1",
   "metadata": {},
   "outputs": [
    {
     "data": {
      "text/plain": [
       "1024"
      ]
     },
     "execution_count": 5,
     "metadata": {},
     "output_type": "execute_result"
    }
   ],
   "source": [
    "\"\"\"The attribute tokenizer.model_max_length provides the maximum length of the input sequence \n",
    "that the tokenizer can handle for the associated model.\"\"\"\n",
    "\n",
    "\n",
    "tokenizer.model_max_length "
   ]
  },
  {
   "cell_type": "code",
   "execution_count": 6,
   "id": "a9824619",
   "metadata": {},
   "outputs": [
    {
     "data": {
      "text/plain": [
       "1022"
      ]
     },
     "execution_count": 6,
     "metadata": {},
     "output_type": "execute_result"
    }
   ],
   "source": [
    "#This attribute shows the maximum length of a single sentence without considering the maximum length of the whole input sequence.\n",
    "tokenizer.max_len_single_sentence "
   ]
  },
  {
   "cell_type": "code",
   "execution_count": 7,
   "id": "3341d3f9",
   "metadata": {},
   "outputs": [
    {
     "name": "stderr",
     "output_type": "stream",
     "text": [
      "[nltk_data] Downloading package punkt to\n",
      "[nltk_data]     C:\\Users\\Roopal\\AppData\\Roaming\\nltk_data...\n",
      "[nltk_data]   Package punkt is already up-to-date!\n"
     ]
    }
   ],
   "source": [
    "#The punkt module includes a pre-trained tokenizer for dividing text into sentences.\n",
    "#The sent_tokenize function applies the pre-trained tokenizer to the input text and splits it into individual sentences based language-specific rules.\n",
    "\n",
    "import nltk\n",
    "nltk.download('punkt')\n",
    "sentences = nltk.tokenize.sent_tokenize(content)"
   ]
  },
  {
   "cell_type": "code",
   "execution_count": 8,
   "id": "313b3267",
   "metadata": {},
   "outputs": [
    {
     "data": {
      "text/plain": [
       "38"
      ]
     },
     "execution_count": 8,
     "metadata": {},
     "output_type": "execute_result"
    }
   ],
   "source": [
    "#It finds the longest sentence\n",
    "\n",
    "max([len(tokenizer.tokenize(sentence)) for sentence in sentences])\n"
   ]
  },
  {
   "cell_type": "code",
   "execution_count": 9,
   "id": "7fc9a97a",
   "metadata": {},
   "outputs": [
    {
     "data": {
      "text/plain": [
       "2"
      ]
     },
     "execution_count": 9,
     "metadata": {},
     "output_type": "execute_result"
    }
   ],
   "source": [
    "\"\"\"The updated code provided performs a chunking operation on the sentences based on a specified maximum length constraint. \n",
    "It divides the sentences into chunks, ensuring that each chunk doesn't exceed the maximum length allowed by the tokenizer.\"\"\"\n",
    "\n",
    "length = 0\n",
    "chunk = \"\"\n",
    "chunks = []\n",
    "count = -1\n",
    "for sentence in sentences:\n",
    "  count += 1\n",
    "  combined_length = len(tokenizer.tokenize(sentence)) + length # add the no. of sentence tokens to the length counter\n",
    "\n",
    "  if combined_length  <= tokenizer.max_len_single_sentence: # if it doesn't exceed\n",
    "    chunk += sentence + \" \" # add the sentence to the chunk\n",
    "    length = combined_length # update the length counter\n",
    "\n",
    "    # if it is the last sentence\n",
    "    if count == len(sentences) - 1:\n",
    "      chunks.append(chunk.strip()) # save the chunk\n",
    "    \n",
    "  else: \n",
    "    chunks.append(chunk.strip()) # save the chunk\n",
    "    \n",
    "    # reset \n",
    "    length = 0 \n",
    "    chunk = \"\"\n",
    "\n",
    "    # take care of the overflow sentence\n",
    "    chunk += sentence + \" \"\n",
    "    length = len(tokenizer.tokenize(sentence))\n",
    "len(chunks)"
   ]
  },
  {
   "cell_type": "code",
   "execution_count": 10,
   "id": "630085d8",
   "metadata": {},
   "outputs": [
    {
     "data": {
      "text/plain": [
       "[1013, 535]"
      ]
     },
     "execution_count": 10,
     "metadata": {},
     "output_type": "execute_result"
    }
   ],
   "source": [
    "#Number of tokens in each chunk\n",
    "\n",
    "[len(tokenizer.tokenize(c)) for c in chunks]"
   ]
  },
  {
   "cell_type": "code",
   "execution_count": 11,
   "id": "7795d1f1",
   "metadata": {},
   "outputs": [
    {
     "name": "stderr",
     "output_type": "stream",
     "text": [
      "Token indices sequence length is longer than the specified maximum sequence length for this model (1562 > 1024). Running this sequence through the model will result in indexing errors\n"
     ]
    },
    {
     "data": {
      "text/plain": [
       "1562"
      ]
     },
     "execution_count": 11,
     "metadata": {},
     "output_type": "execute_result"
    }
   ],
   "source": [
    "len(tokenizer(content).input_ids)"
   ]
  },
  {
   "cell_type": "code",
   "execution_count": 12,
   "id": "f6870e59",
   "metadata": {},
   "outputs": [],
   "source": [
    "\"\"\"It creates a list of tokenized inputs using the tokenizer on each chunk. \n",
    "Each tokenized input is returned as a dictionary-like object with tensors, where the return_tensors=\"pt\".\n",
    "return_tensors=\"pt\" specifies that the tokenizer should return PyTorch tensors as values in the dictionary-like object.\"\"\"\n",
    "\n",
    "inputs = [tokenizer(chunk, return_tensors=\"pt\") for chunk in chunks]"
   ]
  },
  {
   "cell_type": "code",
   "execution_count": 13,
   "id": "bddc9a52",
   "metadata": {},
   "outputs": [
    {
     "name": "stderr",
     "output_type": "stream",
     "text": [
      "C:\\Users\\Roopal\\anaconda3\\lib\\site-packages\\transformers\\generation\\utils.py:1353: UserWarning: Using `max_length`'s default (142) to control the generation length. This behaviour is deprecated and will be removed from the config in v5 of Transformers -- we recommend using `max_new_tokens` to control the maximum length of the generation.\n",
      "  warnings.warn(\n"
     ]
    },
    {
     "name": "stdout",
     "output_type": "stream",
     "text": [
      " The rapid advancement of technology in recent decades has had a profound impact on nearly every aspect of human life. From communication and transportation to healthcare, entertainment, education, and business, the influence of technology is ubiquitous and transformative. The advent of the internet, social media platforms, and mobile devices has revolutionized the way people connect and interact globally.\n"
     ]
    },
    {
     "name": "stderr",
     "output_type": "stream",
     "text": [
      "C:\\Users\\Roopal\\anaconda3\\lib\\site-packages\\transformers\\generation\\utils.py:1353: UserWarning: Using `max_length`'s default (142) to control the generation length. This behaviour is deprecated and will be removed from the config in v5 of Transformers -- we recommend using `max_new_tokens` to control the maximum length of the generation.\n",
      "  warnings.warn(\n"
     ]
    },
    {
     "name": "stdout",
     "output_type": "stream",
     "text": [
      " Self-driving cars have the potential to revolutionize transportation by reducing accidents caused by human error and optimizing traffic flow. Autonomous vehicles promising enhanced safety, efficiency, and convenience. Ride-sharing platforms like Uber and Lyft have disrupted the transportation industry. The field of education has also been greatly impacted by technology.\n"
     ]
    }
   ],
   "source": [
    "for input in inputs:\n",
    "  output = model.generate(**input)\n",
    "  print(tokenizer.decode(*output, skip_special_tokens=True))"
   ]
  },
  {
   "cell_type": "code",
   "execution_count": null,
   "id": "305c50db",
   "metadata": {},
   "outputs": [],
   "source": []
  }
 ],
 "metadata": {
  "kernelspec": {
   "display_name": "Python 3 (ipykernel)",
   "language": "python",
   "name": "python3"
  },
  "language_info": {
   "codemirror_mode": {
    "name": "ipython",
    "version": 3
   },
   "file_extension": ".py",
   "mimetype": "text/x-python",
   "name": "python",
   "nbconvert_exporter": "python",
   "pygments_lexer": "ipython3",
   "version": "3.9.12"
  }
 },
 "nbformat": 4,
 "nbformat_minor": 5
}
